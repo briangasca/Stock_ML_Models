{
  "nbformat": 4,
  "nbformat_minor": 0,
  "metadata": {
    "colab": {
      "provenance": [],
      "gpuType": "T4",
      "authorship_tag": "ABX9TyOQApXHWexkREY+cOzUQfRe",
      "include_colab_link": true
    },
    "kernelspec": {
      "name": "python3",
      "display_name": "Python 3"
    },
    "language_info": {
      "name": "python"
    },
    "accelerator": "GPU"
  },
  "cells": [
    {
      "cell_type": "markdown",
      "metadata": {
        "id": "view-in-github",
        "colab_type": "text"
      },
      "source": [
        "<a href=\"https://colab.research.google.com/github/briangasca/Models/blob/main/KERAS_MODEL.ipynb\" target=\"_parent\"><img src=\"https://colab.research.google.com/assets/colab-badge.svg\" alt=\"Open In Colab\"/></a>"
      ]
    },
    {
      "cell_type": "code",
      "execution_count": 98,
      "metadata": {
        "id": "tsWscgGYiVh5"
      },
      "outputs": [],
      "source": [
        "#Libraries\n",
        "import numpy as np\n",
        "import pandas as pd\n",
        "import matplotlib.pyplot as plt\n",
        "from sklearn.preprocessing import MinMaxScaler\n",
        "#Keras Libraries\n",
        "from keras.models import *\n",
        "from keras.layers import *\n",
        "from keras.layers import Dense\n",
        "import math\n",
        "\n",
        "#Importing csv file and splicing the data so our model only trains off of \"Open\" and \"High\"\n",
        "# ':' skips 'Data' header and '1:2' goes to the 'Open' and 'High' columns.\n",
        "tsla = pd.read_csv(\"TSLA.csv\")\n",
        "data_target = tsla.filter(['High'])\n",
        "target = data_target.values\n",
        "train_data_len = math.ceil(len(tsla) * .80)\n"
      ]
    },
    {
      "cell_type": "code",
      "source": [
        "#MinMax scaler that makes values between 0 and 1. We use this on training data\n",
        "sc = MinMaxScaler(feature_range=(0,1))\n",
        "training_data_scaled = sc.fit_transform(target)\n",
        "\n",
        "#We will now make 3D arrays to feed to the model.\n",
        "train_data = training_data_scaled[0:train_data_len, : ]\n",
        "\n",
        "x_train = []\n",
        "y_train = []\n",
        "\n",
        "#60 timesteps in for loop. We then convert x_train to a 3D array and make 60 timestamps, one feature at each step.\n",
        "for i in range(180, len(train_data)):\n",
        "  x_train.append(train_data[i-180:i, 0])\n",
        "  y_train.append(train_data[i,0])\n",
        "x_train = np.array(x_train)\n",
        "y_train = np.array(y_train)\n",
        "x_train = np.reshape(x_train, (x_train.shape[0], x_train.shape[1],1))"
      ],
      "metadata": {
        "id": "YRjR9Hc9jEN1"
      },
      "execution_count": 99,
      "outputs": []
    },
    {
      "cell_type": "code",
      "source": [
        "#Setting up our neural network & Adding layers\n",
        "model = Sequential()\n",
        "\n",
        "#Add data to the model with LSTM (Long Short Term Memory).\n",
        "# 50 units is the dimensionality of the output space, return_sequences=True is set to True because it's necessary for stacking LSTM layers so the output is ALSO a 3D array\n",
        "# input_shape is just the shape of the training set, so the same set we used in the cell above for x_train.\n",
        "# 4-Layer Neural Network\n",
        "model.add(LSTM(units=50,return_sequences=True,input_shape=(x_train.shape[1],1)))\n",
        "model.add(Dropout(0.2))\n",
        "\n",
        "model.add(LSTM(units=50,return_sequences=True))\n",
        "model.add(Dropout(0.2))\n",
        "\n",
        "model.add(LSTM(units=50,return_sequences=True))\n",
        "model.add(Dropout(0.2))\n",
        "\n",
        "model.add(LSTM(units=50))\n",
        "model.add(Dropout(0.2))\n",
        "#The Dense layer will take input from every neuron in the previous layer and output to every neuron in the next layer. Essentially the output layer.\n",
        "model.add(Dense(units=1))\n",
        "\n",
        "#Adam Optimization is a solid neural network algorithm that Keras has. We are also calculating the loss using mean squared error to see how good the model is performing. Lower == Better!!\n",
        "model.compile(optimizer='adam', loss='mean_squared_error')\n",
        "\n",
        "#Training the actual model. Inputting x_train (3D array), y_train (1D array), it will run for 100 epochs (basically just 100 times.), batch_size means the number of samples of data that is going to be given per epoch.\n",
        "#So there is around 2200 different points of data in train_data, so 2200 / 32 =~ 64, therefore for each epoch run, 64 little files will be run through the model.\n",
        "model.fit(x_train,y_train,epochs=100,batch_size=32)"
      ],
      "metadata": {
        "colab": {
          "base_uri": "https://localhost:8080/"
        },
        "id": "cAxM7anRmAOR",
        "outputId": "45110589-a650-4bfe-af2a-f428075a85af"
      },
      "execution_count": 100,
      "outputs": [
        {
          "output_type": "stream",
          "name": "stdout",
          "text": [
            "Epoch 1/100\n",
            "74/74 [==============================] - 10s 28ms/step - loss: 2.7572e-04\n",
            "Epoch 2/100\n",
            "74/74 [==============================] - 2s 26ms/step - loss: 1.0237e-04\n",
            "Epoch 3/100\n",
            "74/74 [==============================] - 2s 26ms/step - loss: 9.4481e-05\n",
            "Epoch 4/100\n",
            "74/74 [==============================] - 2s 25ms/step - loss: 8.7662e-05\n",
            "Epoch 5/100\n",
            "74/74 [==============================] - 2s 26ms/step - loss: 7.7542e-05\n",
            "Epoch 6/100\n",
            "74/74 [==============================] - 2s 33ms/step - loss: 7.6093e-05\n",
            "Epoch 7/100\n",
            "74/74 [==============================] - 2s 25ms/step - loss: 8.0774e-05\n",
            "Epoch 8/100\n",
            "74/74 [==============================] - 2s 25ms/step - loss: 6.7100e-05\n",
            "Epoch 9/100\n",
            "74/74 [==============================] - 2s 26ms/step - loss: 7.0390e-05\n",
            "Epoch 10/100\n",
            "74/74 [==============================] - 2s 26ms/step - loss: 4.9850e-05\n",
            "Epoch 11/100\n",
            "74/74 [==============================] - 2s 26ms/step - loss: 5.6303e-05\n",
            "Epoch 12/100\n",
            "74/74 [==============================] - 2s 33ms/step - loss: 4.3213e-05\n",
            "Epoch 13/100\n",
            "74/74 [==============================] - 2s 29ms/step - loss: 3.9009e-05\n",
            "Epoch 14/100\n",
            "74/74 [==============================] - 2s 26ms/step - loss: 4.0941e-05\n",
            "Epoch 15/100\n",
            "74/74 [==============================] - 2s 26ms/step - loss: 5.5762e-05\n",
            "Epoch 16/100\n",
            "74/74 [==============================] - 2s 26ms/step - loss: 4.7728e-05\n",
            "Epoch 17/100\n",
            "74/74 [==============================] - 2s 26ms/step - loss: 4.4475e-05\n",
            "Epoch 18/100\n",
            "74/74 [==============================] - 2s 33ms/step - loss: 4.7557e-05\n",
            "Epoch 19/100\n",
            "74/74 [==============================] - 2s 29ms/step - loss: 5.0679e-05\n",
            "Epoch 20/100\n",
            "74/74 [==============================] - 2s 26ms/step - loss: 4.1631e-05\n",
            "Epoch 21/100\n",
            "74/74 [==============================] - 2s 27ms/step - loss: 3.9660e-05\n",
            "Epoch 22/100\n",
            "74/74 [==============================] - 2s 27ms/step - loss: 3.2960e-05\n",
            "Epoch 23/100\n",
            "74/74 [==============================] - 2s 26ms/step - loss: 4.5675e-05\n",
            "Epoch 24/100\n",
            "74/74 [==============================] - 2s 33ms/step - loss: 3.4939e-05\n",
            "Epoch 25/100\n",
            "74/74 [==============================] - 2s 30ms/step - loss: 4.2122e-05\n",
            "Epoch 26/100\n",
            "74/74 [==============================] - 2s 27ms/step - loss: 4.3317e-05\n",
            "Epoch 27/100\n",
            "74/74 [==============================] - 2s 27ms/step - loss: 3.5144e-05\n",
            "Epoch 28/100\n",
            "74/74 [==============================] - 2s 27ms/step - loss: 3.3642e-05\n",
            "Epoch 29/100\n",
            "74/74 [==============================] - 2s 27ms/step - loss: 3.3167e-05\n",
            "Epoch 30/100\n",
            "74/74 [==============================] - 2s 33ms/step - loss: 2.8803e-05\n",
            "Epoch 31/100\n",
            "74/74 [==============================] - 2s 30ms/step - loss: 3.8278e-05\n",
            "Epoch 32/100\n",
            "74/74 [==============================] - 2s 27ms/step - loss: 3.0608e-05\n",
            "Epoch 33/100\n",
            "74/74 [==============================] - 2s 27ms/step - loss: 3.2623e-05\n",
            "Epoch 34/100\n",
            "74/74 [==============================] - 2s 28ms/step - loss: 3.9206e-05\n",
            "Epoch 35/100\n",
            "74/74 [==============================] - 2s 25ms/step - loss: 3.7849e-05\n",
            "Epoch 36/100\n",
            "74/74 [==============================] - 2s 30ms/step - loss: 4.2478e-05\n",
            "Epoch 37/100\n",
            "74/74 [==============================] - 2s 29ms/step - loss: 2.9904e-05\n",
            "Epoch 38/100\n",
            "74/74 [==============================] - 2s 26ms/step - loss: 3.5538e-05\n",
            "Epoch 39/100\n",
            "74/74 [==============================] - 2s 26ms/step - loss: 4.2310e-05\n",
            "Epoch 40/100\n",
            "74/74 [==============================] - 2s 25ms/step - loss: 3.2404e-05\n",
            "Epoch 41/100\n",
            "74/74 [==============================] - 2s 26ms/step - loss: 4.0049e-05\n",
            "Epoch 42/100\n",
            "74/74 [==============================] - 2s 28ms/step - loss: 3.4965e-05\n",
            "Epoch 43/100\n",
            "74/74 [==============================] - 2s 32ms/step - loss: 3.9323e-05\n",
            "Epoch 44/100\n",
            "74/74 [==============================] - 2s 25ms/step - loss: 3.2005e-05\n",
            "Epoch 45/100\n",
            "74/74 [==============================] - 2s 26ms/step - loss: 3.5660e-05\n",
            "Epoch 46/100\n",
            "74/74 [==============================] - 2s 25ms/step - loss: 4.6082e-05\n",
            "Epoch 47/100\n",
            "74/74 [==============================] - 2s 25ms/step - loss: 3.9765e-05\n",
            "Epoch 48/100\n",
            "74/74 [==============================] - 2s 26ms/step - loss: 3.1609e-05\n",
            "Epoch 49/100\n",
            "74/74 [==============================] - 3s 35ms/step - loss: 3.0828e-05\n",
            "Epoch 50/100\n",
            "74/74 [==============================] - 2s 27ms/step - loss: 3.2228e-05\n",
            "Epoch 51/100\n",
            "74/74 [==============================] - 2s 26ms/step - loss: 2.9538e-05\n",
            "Epoch 52/100\n",
            "74/74 [==============================] - 2s 26ms/step - loss: 2.7568e-05\n",
            "Epoch 53/100\n",
            "74/74 [==============================] - 2s 26ms/step - loss: 3.0892e-05\n",
            "Epoch 54/100\n",
            "74/74 [==============================] - 2s 26ms/step - loss: 2.9274e-05\n",
            "Epoch 55/100\n",
            "74/74 [==============================] - 2s 31ms/step - loss: 3.1378e-05\n",
            "Epoch 56/100\n",
            "74/74 [==============================] - 2s 28ms/step - loss: 2.7886e-05\n",
            "Epoch 57/100\n",
            "74/74 [==============================] - 2s 26ms/step - loss: 2.5126e-05\n",
            "Epoch 58/100\n",
            "74/74 [==============================] - 2s 25ms/step - loss: 2.8687e-05\n",
            "Epoch 59/100\n",
            "74/74 [==============================] - 2s 26ms/step - loss: 3.2958e-05\n",
            "Epoch 60/100\n",
            "74/74 [==============================] - 2s 26ms/step - loss: 2.7372e-05\n",
            "Epoch 61/100\n",
            "74/74 [==============================] - 2s 31ms/step - loss: 2.1919e-05\n",
            "Epoch 62/100\n",
            "74/74 [==============================] - 2s 31ms/step - loss: 3.3800e-05\n",
            "Epoch 63/100\n",
            "74/74 [==============================] - 2s 26ms/step - loss: 3.4350e-05\n",
            "Epoch 64/100\n",
            "74/74 [==============================] - 2s 27ms/step - loss: 2.3896e-05\n",
            "Epoch 65/100\n",
            "74/74 [==============================] - 2s 25ms/step - loss: 2.7205e-05\n",
            "Epoch 66/100\n",
            "74/74 [==============================] - 2s 26ms/step - loss: 2.5370e-05\n",
            "Epoch 67/100\n",
            "74/74 [==============================] - 2s 28ms/step - loss: 3.0895e-05\n",
            "Epoch 68/100\n",
            "74/74 [==============================] - 2s 33ms/step - loss: 2.7418e-05\n",
            "Epoch 69/100\n",
            "74/74 [==============================] - 2s 26ms/step - loss: 2.8179e-05\n",
            "Epoch 70/100\n",
            "74/74 [==============================] - 2s 26ms/step - loss: 3.0048e-05\n",
            "Epoch 71/100\n",
            "74/74 [==============================] - 2s 26ms/step - loss: 3.8335e-05\n",
            "Epoch 72/100\n",
            "74/74 [==============================] - 2s 25ms/step - loss: 3.1354e-05\n",
            "Epoch 73/100\n",
            "74/74 [==============================] - 2s 27ms/step - loss: 2.4060e-05\n",
            "Epoch 74/100\n",
            "74/74 [==============================] - 3s 35ms/step - loss: 2.6497e-05\n",
            "Epoch 75/100\n",
            "74/74 [==============================] - 2s 26ms/step - loss: 3.0283e-05\n",
            "Epoch 76/100\n",
            "74/74 [==============================] - 2s 25ms/step - loss: 2.7445e-05\n",
            "Epoch 77/100\n",
            "74/74 [==============================] - 2s 26ms/step - loss: 2.3157e-05\n",
            "Epoch 78/100\n",
            "74/74 [==============================] - 2s 26ms/step - loss: 2.2603e-05\n",
            "Epoch 79/100\n",
            "74/74 [==============================] - 2s 27ms/step - loss: 2.4229e-05\n",
            "Epoch 80/100\n",
            "74/74 [==============================] - 3s 34ms/step - loss: 2.6731e-05\n",
            "Epoch 81/100\n",
            "74/74 [==============================] - 2s 27ms/step - loss: 2.8115e-05\n",
            "Epoch 82/100\n",
            "74/74 [==============================] - 2s 25ms/step - loss: 2.4162e-05\n",
            "Epoch 83/100\n",
            "74/74 [==============================] - 2s 25ms/step - loss: 2.4281e-05\n",
            "Epoch 84/100\n",
            "74/74 [==============================] - 2s 25ms/step - loss: 2.6418e-05\n",
            "Epoch 85/100\n",
            "74/74 [==============================] - 2s 26ms/step - loss: 2.2859e-05\n",
            "Epoch 86/100\n",
            "74/74 [==============================] - 2s 32ms/step - loss: 2.6356e-05\n",
            "Epoch 87/100\n",
            "74/74 [==============================] - 2s 29ms/step - loss: 2.6923e-05\n",
            "Epoch 88/100\n",
            "74/74 [==============================] - 2s 26ms/step - loss: 3.1578e-05\n",
            "Epoch 89/100\n",
            "74/74 [==============================] - 2s 26ms/step - loss: 2.6744e-05\n",
            "Epoch 90/100\n",
            "74/74 [==============================] - 2s 26ms/step - loss: 2.7532e-05\n",
            "Epoch 91/100\n",
            "74/74 [==============================] - 2s 26ms/step - loss: 2.9706e-05\n",
            "Epoch 92/100\n",
            "74/74 [==============================] - 2s 29ms/step - loss: 2.5664e-05\n",
            "Epoch 93/100\n",
            "74/74 [==============================] - 2s 30ms/step - loss: 2.2365e-05\n",
            "Epoch 94/100\n",
            "74/74 [==============================] - 2s 25ms/step - loss: 2.9991e-05\n",
            "Epoch 95/100\n",
            "74/74 [==============================] - 2s 26ms/step - loss: 2.1741e-05\n",
            "Epoch 96/100\n",
            "74/74 [==============================] - 2s 26ms/step - loss: 2.4360e-05\n",
            "Epoch 97/100\n",
            "74/74 [==============================] - 2s 27ms/step - loss: 2.4044e-05\n",
            "Epoch 98/100\n",
            "74/74 [==============================] - 2s 29ms/step - loss: 3.6028e-05\n",
            "Epoch 99/100\n",
            "74/74 [==============================] - 2s 33ms/step - loss: 3.1971e-05\n",
            "Epoch 100/100\n",
            "74/74 [==============================] - 2s 26ms/step - loss: 2.7305e-05\n"
          ]
        },
        {
          "output_type": "execute_result",
          "data": {
            "text/plain": [
              "<keras.callbacks.History at 0x7e88ac19a800>"
            ]
          },
          "metadata": {},
          "execution_count": 100
        }
      ]
    },
    {
      "cell_type": "code",
      "source": [
        "# model.save('/model.keras')\n",
        "test_data = training_data_scaled[train_data_len - 180:,:]"
      ],
      "metadata": {
        "id": "-5ZOT2e_tZTt"
      },
      "execution_count": 101,
      "outputs": []
    },
    {
      "cell_type": "code",
      "source": [
        "x_test = []\n",
        "y_test = target[train_data_len:,:]\n",
        "\n",
        "#For i in range from 60 (timstep ) to 321 (60 + length of the dataset using dataset_test.shape)\n",
        "for i in range(180, len(test_data)):\n",
        "  x_test.append(test_data[i-180:i,0])\n",
        "\n",
        "#make x_test into a numpy array\n",
        "x_test = np.array(x_test)\n",
        "#Reshape x_test to a 3D array for Keras to go through\n",
        "x_test = np.reshape(x_test, (x_test.shape[0], x_test.shape[1], 1))\n",
        "\n",
        "#Keras Prediction\n",
        "predicted_stock_price = model.predict(x_test)\n",
        "\n",
        "#Change back to numerical values instead of values between 0-1 so that we can display it well on graph.\n",
        "predicted_stock_price = sc.inverse_transform(predicted_stock_price)"
      ],
      "metadata": {
        "colab": {
          "base_uri": "https://localhost:8080/"
        },
        "id": "dG4mnE7hxEoB",
        "outputId": "0551efdd-081e-46ec-9043-65cf05b168be"
      },
      "execution_count": 102,
      "outputs": [
        {
          "output_type": "stream",
          "name": "stdout",
          "text": [
            "20/20 [==============================] - 2s 17ms/step\n"
          ]
        }
      ]
    },
    {
      "cell_type": "code",
      "source": [
        "#Plotting\n",
        "\n",
        "train = data_target[:train_data_len]\n",
        "valid = data_target[train_data_len:]\n",
        "valid['Predictions'] = predicted_stock_price\n",
        "\n",
        "plt.style.use('fivethirtyeight')\n",
        "plt.figure(figsize=(10,5))\n",
        "plt.title('TSLA Stock Prediction w/ KERAS')\n",
        "plt.xlabel('Date', fontsize=8)\n",
        "plt.ylabel('Price USD ($)', fontsize=12)\n",
        "\n",
        "plt.plot(train['High'])\n",
        "plt.plot(valid[['High','Predictions']])\n",
        "\n",
        "#Every 75 indicdes in dataset_test, pick a date and make it a tick on the x-axis\n",
        "plt.xticks([0, 500, 1000,1500,2000,2500,3000], ['2010', '2012', '2014', '2016', '2018', '2020', '2022'])\n",
        "plt.yticks([125,250,375,500], ['100','200','300','400'])\n",
        "\n",
        "plt.legend(['Train','Actual Val.','Predictions'], loc='upper left')\n",
        "plt.show()"
      ],
      "metadata": {
        "colab": {
          "base_uri": "https://localhost:8080/",
          "height": 549
        },
        "id": "Qsn52esJyenb",
        "outputId": "23d7d3de-e40c-41a5-84e9-83498139b7ba"
      },
      "execution_count": 112,
      "outputs": [
        {
          "output_type": "stream",
          "name": "stderr",
          "text": [
            "<ipython-input-112-2f3c9585066b>:5: SettingWithCopyWarning: \n",
            "A value is trying to be set on a copy of a slice from a DataFrame.\n",
            "Try using .loc[row_indexer,col_indexer] = value instead\n",
            "\n",
            "See the caveats in the documentation: https://pandas.pydata.org/pandas-docs/stable/user_guide/indexing.html#returning-a-view-versus-a-copy\n",
            "  valid['Predictions'] = predicted_stock_price\n"
          ]
        },
        {
          "output_type": "display_data",
          "data": {
            "text/plain": [
              "<Figure size 1000x500 with 1 Axes>"
            ],
            "image/png": "[encoded data removed]"
          },
          "metadata": {}
        }
      ]
    },
    {
      "cell_type": "code",
      "source": [],
      "metadata": {
        "id": "7TD2kL-3gckD"
      },
      "execution_count": null,
      "outputs": []
    }
  ]
}
